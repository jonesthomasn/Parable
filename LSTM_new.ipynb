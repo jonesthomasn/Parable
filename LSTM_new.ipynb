{
 "cells": [
  {
   "cell_type": "code",
   "execution_count": 294,
   "metadata": {
    "collapsed": false
   },
   "outputs": [],
   "source": [
    "from sklearn.metrics import confusion_matrix\n",
    "from sklearn.tree import DecisionTreeClassifier\n",
    "import numpy as np\n",
    "import pandas as pd\n",
    "from sklearn.linear_model import LogisticRegression\n",
    "#from sklearn.model_selection import train_test_split\n",
    "from keras.models import Sequential\n",
    "from keras.layers import LSTM\n",
    "from keras.layers import Dense\n",
    "from keras.models import Sequential\n",
    "from keras.layers import Dense, Dropout\n",
    "from sklearn.ensemble import RandomForestClassifier, IsolationForest\n",
    "from sklearn.datasets import make_classification\n",
    "from sklearn.neural_network import MLPClassifier"
   ]
  },
  {
   "cell_type": "code",
   "execution_count": 268,
   "metadata": {
    "collapsed": false
   },
   "outputs": [],
   "source": [
    "testdata = pd.read_csv(\"E:/testingdata_new.csv\")\n",
    "traindata = pd.read_csv(\"E:/trainingdata_new.csv\")\n",
    "predictiondata =pd.read_csv(\"E:/prediction_data.csv\")"
   ]
  },
  {
   "cell_type": "code",
   "execution_count": 269,
   "metadata": {
    "collapsed": true
   },
   "outputs": [],
   "source": [
    "#x_train = traindata[['DebtPS','Debt2Eq','CurrentR','FCFPS','PE','PS','PB','EV2EBITDA','PM','EBITDA','Cash','MinorityInt','MkCap','Leverage','RevGrowth','ROIC','DilEPS','R3MEQI','NDebt2CF','NI2Profit']]\n",
    "#x_test = testdata[['DebtPS','Debt2Eq','CurrentR','FCFPS','PE','PS','PB','EV2EBITDA','PM','EBITDA','Cash','MinorityInt','MkCap','Leverage','RevGrowth','ROIC','DilEPS','R3MEQI','NDebt2CF','NI2Profit']]\n",
    "\n",
    "x_train = traindata[['Debt2Eq','PE','PS','PB','EV2EBITDA','PM','EBITDA','Cash','MkCap','NDebt2CF','NI2Profit']]\n",
    "x_test = testdata[['Debt2Eq','PE','PS','PB','EV2EBITDA','PM','EBITDA','Cash','MkCap','NDebt2CF','NI2Profit']]\n",
    "\n",
    "y_train = traindata['Bought']\n",
    "y_test = testdata['Bought']\n",
    "#predictiondata = predictiondata[['DebtPS','Debt2Eq','CurrentR','FCFPS','PE','PS','PB','EV2EBITDA','PM','EBITDA','Cash','MinorityInt','MkCap','Leverage','RevGrowth','ROIC','DilEPS','R3MEQI','NDebt2CF','NI2Profit']]\n"
   ]
  },
  {
   "cell_type": "code",
   "execution_count": 270,
   "metadata": {
    "collapsed": false
   },
   "outputs": [],
   "source": [
    "x_train = np.array(x_train)\n",
    "y_train = np.array(y_train).reshape(-1,1)\n",
    "x_test = np.array(x_test)\n",
    "y_test = np.array(y_test).reshape(-1,1)"
   ]
  },
  {
   "cell_type": "code",
   "execution_count": 5,
   "metadata": {
    "collapsed": false
   },
   "outputs": [],
   "source": [
    "#x_train = np.array(x_train).T\n",
    "#y_train = np.array(y_train).T\n",
    "#x_train = x_train.reshape((1,20,len(y_train)))\n",
    "#y_train = y_train.reshape((1,len(y_train)))\n"
   ]
  },
  {
   "cell_type": "code",
   "execution_count": 86,
   "metadata": {
    "collapsed": true
   },
   "outputs": [],
   "source": [
    "#x_test = np.array(x_test).T\n",
    "#y_test = np.array(y_test).T\n",
    "#x_test = x_test.reshape((1,20,len(y_test)))\n",
    "#y_test = y_test.reshape((1,len(y_test)))"
   ]
  },
  {
   "cell_type": "markdown",
   "metadata": {
    "collapsed": false
   },
   "source": [
    "LSTM"
   ]
  },
  {
   "cell_type": "code",
   "execution_count": 11,
   "metadata": {
    "collapsed": false
   },
   "outputs": [
    {
     "name": "stdout",
     "output_type": "stream",
     "text": [
      "Epoch 1/100\n",
      "3s - loss: 4.1350 - acc: 0.7407\n",
      "Epoch 2/100\n",
      "3s - loss: 4.1496 - acc: 0.7398\n",
      "Epoch 3/100\n",
      "3s - loss: 4.1365 - acc: 0.7406\n",
      "Epoch 4/100\n",
      "3s - loss: 4.1466 - acc: 0.7400\n",
      "Epoch 5/100\n",
      "3s - loss: 4.1142 - acc: 0.7420\n",
      "Epoch 6/100\n",
      "3s - loss: 4.1749 - acc: 0.7382\n",
      "Epoch 7/100\n",
      "4s - loss: 4.1430 - acc: 0.7402\n",
      "Epoch 8/100\n",
      "3s - loss: 4.1688 - acc: 0.7386\n",
      "Epoch 9/100\n",
      "4s - loss: 4.0623 - acc: 0.7453\n",
      "Epoch 10/100\n",
      "4s - loss: 3.7798 - acc: 0.7630\n",
      "Epoch 11/100\n",
      "3s - loss: 3.7709 - acc: 0.7636\n",
      "Epoch 12/100\n",
      "3s - loss: 3.7907 - acc: 0.7623\n",
      "Epoch 13/100\n",
      "3s - loss: 3.7811 - acc: 0.7629\n",
      "Epoch 14/100\n",
      "4s - loss: 3.7599 - acc: 0.7643\n",
      "Epoch 15/100\n",
      "3s - loss: 3.7926 - acc: 0.7622\n",
      "Epoch 16/100\n",
      "3s - loss: 3.7872 - acc: 0.7626\n",
      "Epoch 17/100\n",
      "3s - loss: 3.7702 - acc: 0.7636\n",
      "Epoch 18/100\n",
      "4s - loss: 3.7732 - acc: 0.7634\n",
      "Epoch 19/100\n",
      "3s - loss: 3.7724 - acc: 0.7635\n",
      "Epoch 20/100\n",
      "3s - loss: 3.7793 - acc: 0.7631\n",
      "Epoch 21/100\n",
      "3s - loss: 3.7941 - acc: 0.7621\n",
      "Epoch 22/100\n",
      "3s - loss: 3.7772 - acc: 0.7632\n",
      "Epoch 23/100\n",
      "3s - loss: 3.7639 - acc: 0.7640\n",
      "Epoch 24/100\n",
      "3s - loss: 3.7688 - acc: 0.7637\n",
      "Epoch 25/100\n",
      "3s - loss: 3.7543 - acc: 0.7646\n",
      "Epoch 26/100\n",
      "3s - loss: 3.7781 - acc: 0.7631\n",
      "Epoch 27/100\n",
      "3s - loss: 3.7985 - acc: 0.7619\n",
      "Epoch 28/100\n",
      "3s - loss: 3.7798 - acc: 0.7630\n",
      "Epoch 29/100\n",
      "4s - loss: 3.7672 - acc: 0.7638\n",
      "Epoch 30/100\n",
      "3s - loss: 3.7747 - acc: 0.7633\n",
      "Epoch 31/100\n",
      "3s - loss: 3.7533 - acc: 0.7647\n",
      "Epoch 32/100\n",
      "3s - loss: 3.8011 - acc: 0.7617\n",
      "Epoch 33/100\n",
      "3s - loss: 3.7798 - acc: 0.7630\n",
      "Epoch 34/100\n",
      "3s - loss: 3.7657 - acc: 0.7639\n",
      "Epoch 35/100\n",
      "3s - loss: 3.7554 - acc: 0.7646\n",
      "Epoch 36/100\n",
      "3s - loss: 3.7530 - acc: 0.7647\n",
      "Epoch 37/100\n",
      "3s - loss: 3.7890 - acc: 0.7624\n",
      "Epoch 38/100\n",
      "3s - loss: 3.7763 - acc: 0.7632\n",
      "Epoch 39/100\n",
      "3s - loss: 3.7627 - acc: 0.7641\n",
      "Epoch 40/100\n",
      "3s - loss: 3.7533 - acc: 0.7647\n",
      "Epoch 41/100\n",
      "4s - loss: 3.7912 - acc: 0.7623\n",
      "Epoch 42/100\n",
      "3s - loss: 3.7651 - acc: 0.7639\n",
      "Epoch 43/100\n",
      "3s - loss: 3.8060 - acc: 0.7614\n",
      "Epoch 44/100\n",
      "3s - loss: 3.7559 - acc: 0.7645\n",
      "Epoch 45/100\n",
      "3s - loss: 3.7668 - acc: 0.7638\n",
      "Epoch 46/100\n",
      "3s - loss: 3.7693 - acc: 0.7637\n",
      "Epoch 47/100\n",
      "3s - loss: 3.7908 - acc: 0.7623\n",
      "Epoch 48/100\n",
      "3s - loss: 3.7909 - acc: 0.7623\n",
      "Epoch 49/100\n",
      "4s - loss: 3.7877 - acc: 0.7625\n",
      "Epoch 50/100\n",
      "3s - loss: 3.7759 - acc: 0.7633\n",
      "Epoch 51/100\n",
      "3s - loss: 3.7720 - acc: 0.7635\n",
      "Epoch 52/100\n",
      "3s - loss: 3.8039 - acc: 0.7615\n",
      "Epoch 53/100\n",
      "4s - loss: 3.7906 - acc: 0.7623\n",
      "Epoch 54/100\n",
      "3s - loss: 3.8013 - acc: 0.7617\n",
      "Epoch 55/100\n",
      "3s - loss: 3.7374 - acc: 0.7657\n",
      "Epoch 56/100\n",
      "3s - loss: 3.7723 - acc: 0.7635\n",
      "Epoch 57/100\n",
      "3s - loss: 3.7959 - acc: 0.7620\n",
      "Epoch 58/100\n",
      "3s - loss: 3.7579 - acc: 0.7644\n",
      "Epoch 59/100\n",
      "3s - loss: 3.7684 - acc: 0.7637\n",
      "Epoch 60/100\n",
      "3s - loss: 3.7836 - acc: 0.7628\n",
      "Epoch 61/100\n",
      "3s - loss: 3.7689 - acc: 0.7637\n",
      "Epoch 62/100\n",
      "3s - loss: 3.7357 - acc: 0.7658\n",
      "Epoch 63/100\n",
      "3s - loss: 3.7920 - acc: 0.7623\n",
      "Epoch 64/100\n",
      "3s - loss: 3.7855 - acc: 0.7627\n",
      "Epoch 65/100\n",
      "3s - loss: 3.7561 - acc: 0.7645\n",
      "Epoch 66/100\n",
      "3s - loss: 3.7561 - acc: 0.7645\n",
      "Epoch 67/100\n",
      "3s - loss: 3.7950 - acc: 0.7621\n",
      "Epoch 68/100\n",
      "3s - loss: 3.8082 - acc: 0.7612\n",
      "Epoch 69/100\n",
      "3s - loss: 3.7976 - acc: 0.7619\n",
      "Epoch 70/100\n",
      "3s - loss: 3.7860 - acc: 0.7626\n",
      "Epoch 71/100\n",
      "3s - loss: 3.8153 - acc: 0.7608\n",
      "Epoch 72/100\n",
      "3s - loss: 3.7991 - acc: 0.7618\n",
      "Epoch 73/100\n",
      "3s - loss: 3.7482 - acc: 0.7650\n",
      "Epoch 74/100\n",
      "3s - loss: 3.8525 - acc: 0.7585\n",
      "Epoch 75/100\n",
      "3s - loss: 3.7926 - acc: 0.7622\n",
      "Epoch 76/100\n",
      "3s - loss: 3.7585 - acc: 0.7644\n",
      "Epoch 77/100\n",
      "3s - loss: 3.7622 - acc: 0.7641\n",
      "Epoch 78/100\n",
      "3s - loss: 3.7785 - acc: 0.7631\n",
      "Epoch 79/100\n",
      "3s - loss: 3.7831 - acc: 0.7628\n",
      "Epoch 80/100\n",
      "3s - loss: 3.7777 - acc: 0.7632\n",
      "Epoch 81/100\n",
      "3s - loss: 3.7827 - acc: 0.7628\n",
      "Epoch 82/100\n",
      "3s - loss: 3.7554 - acc: 0.7646\n",
      "Epoch 83/100\n",
      "3s - loss: 3.7614 - acc: 0.7642\n",
      "Epoch 84/100\n",
      "3s - loss: 3.7655 - acc: 0.7639\n",
      "Epoch 85/100\n",
      "3s - loss: 3.7480 - acc: 0.7650\n",
      "Epoch 86/100\n",
      "3s - loss: 3.7463 - acc: 0.7651\n",
      "Epoch 87/100\n",
      "3s - loss: 3.7662 - acc: 0.7639\n",
      "Epoch 88/100\n",
      "3s - loss: 3.7753 - acc: 0.7633\n",
      "Epoch 89/100\n",
      "3s - loss: 3.7846 - acc: 0.7627\n",
      "Epoch 90/100\n",
      "3s - loss: 3.7925 - acc: 0.7622\n",
      "Epoch 91/100\n",
      "3s - loss: 3.7865 - acc: 0.7626\n",
      "Epoch 92/100\n",
      "3s - loss: 3.7945 - acc: 0.7621\n",
      "Epoch 93/100\n",
      "3s - loss: 3.7333 - acc: 0.7659\n",
      "Epoch 94/100\n",
      "3s - loss: 3.7753 - acc: 0.7633\n",
      "Epoch 95/100\n",
      "3s - loss: 3.7985 - acc: 0.7619\n",
      "Epoch 96/100\n",
      "3s - loss: 3.7550 - acc: 0.7646\n",
      "Epoch 97/100\n",
      "3s - loss: 3.7668 - acc: 0.7638\n",
      "Epoch 98/100\n",
      "3s - loss: 3.6919 - acc: 0.7685\n",
      "Epoch 99/100\n",
      "3s - loss: 3.5781 - acc: 0.7757\n",
      "Epoch 100/100\n",
      "3s - loss: 3.5352 - acc: 0.7784\n"
     ]
    },
    {
     "data": {
      "text/plain": [
       "<keras.callbacks.History at 0x1f714e48ac8>"
      ]
     },
     "execution_count": 11,
     "metadata": {},
     "output_type": "execute_result"
    }
   ],
   "source": [
    "model = Sequential()\n",
    "model.add(Dense(64, input_dim=20, activation='relu'))\n",
    "model.add(Dropout(0.5))\n",
    "model.add(Dense(64, activation='relu'))\n",
    "model.add(Dropout(0.5))\n",
    "#model.add(LSTM(len(y_train),return_sequences=False))\n",
    "#model.add(Dense(120465))\n",
    "model.add(Dense(1, activation='sigmoid'))\n",
    "\n",
    "model.compile(loss='binary_crossentropy',\n",
    "              optimizer='rmsprop',\n",
    "              metrics=['accuracy'])\n",
    "\n",
    "model.fit(x_train, y_train,\n",
    "          epochs=100,\n",
    "          batch_size=50,verbose=2)"
   ]
  },
  {
   "cell_type": "code",
   "execution_count": 12,
   "metadata": {
    "collapsed": false
   },
   "outputs": [],
   "source": [
    "test_pre = model.predict(x_test)"
   ]
  },
  {
   "cell_type": "code",
   "execution_count": 13,
   "metadata": {
    "collapsed": true
   },
   "outputs": [],
   "source": [
    "test_pre = test_pre.reshape(1,-1)"
   ]
  },
  {
   "cell_type": "code",
   "execution_count": 14,
   "metadata": {
    "collapsed": false
   },
   "outputs": [],
   "source": [
    "test_pre = test_pre[0]"
   ]
  },
  {
   "cell_type": "code",
   "execution_count": 10,
   "metadata": {
    "collapsed": true
   },
   "outputs": [],
   "source": [
    "#test_result = [1 if x >0.5 else 0 for x in test_pre]"
   ]
  },
  {
   "cell_type": "code",
   "execution_count": 11,
   "metadata": {
    "collapsed": false
   },
   "outputs": [],
   "source": [
    "#y_test = y_test.reshape(1,-1)\n",
    "#y_test = y_test[0]"
   ]
  },
  {
   "cell_type": "code",
   "execution_count": 51,
   "metadata": {
    "collapsed": false
   },
   "outputs": [
    {
     "data": {
      "text/plain": [
       "array([[54626,     8],\n",
       "       [ 1010,     0]], dtype=int64)"
      ]
     },
     "execution_count": 51,
     "metadata": {},
     "output_type": "execute_result"
    }
   ],
   "source": [
    "confusion_matrix(y_test,test_pre)"
   ]
  },
  {
   "cell_type": "markdown",
   "metadata": {},
   "source": [
    "Random Forest"
   ]
  },
  {
   "cell_type": "code",
   "execution_count": 97,
   "metadata": {
    "collapsed": true
   },
   "outputs": [],
   "source": [
    "clf = RandomForestClassifier(max_depth=10, random_state=None,n_estimators = 500)"
   ]
  },
  {
   "cell_type": "code",
   "execution_count": 98,
   "metadata": {
    "collapsed": false
   },
   "outputs": [
    {
     "name": "stderr",
     "output_type": "stream",
     "text": [
      "C:\\Users\\Peilin\\Anaconda3\\lib\\site-packages\\ipykernel\\__main__.py:1: DataConversionWarning: A column-vector y was passed when a 1d array was expected. Please change the shape of y to (n_samples,), for example using ravel().\n",
      "  if __name__ == '__main__':\n"
     ]
    },
    {
     "data": {
      "text/plain": [
       "RandomForestClassifier(bootstrap=True, class_weight=None, criterion='gini',\n",
       "            max_depth=10, max_features='auto', max_leaf_nodes=None,\n",
       "            min_impurity_decrease=0.0, min_impurity_split=None,\n",
       "            min_samples_leaf=1, min_samples_split=2,\n",
       "            min_weight_fraction_leaf=0.0, n_estimators=500, n_jobs=1,\n",
       "            oob_score=False, random_state=None, verbose=0,\n",
       "            warm_start=False)"
      ]
     },
     "execution_count": 98,
     "metadata": {},
     "output_type": "execute_result"
    }
   ],
   "source": [
    "clf.fit(x_train,y_train)"
   ]
  },
  {
   "cell_type": "code",
   "execution_count": 99,
   "metadata": {
    "collapsed": false
   },
   "outputs": [],
   "source": [
    "rf_res = clf.predict(x_test)"
   ]
  },
  {
   "cell_type": "code",
   "execution_count": 100,
   "metadata": {
    "collapsed": false
   },
   "outputs": [
    {
     "data": {
      "text/plain": [
       "array([[54634,     0],\n",
       "       [ 1010,     0]], dtype=int64)"
      ]
     },
     "execution_count": 100,
     "metadata": {},
     "output_type": "execute_result"
    }
   ],
   "source": [
    "confusion_matrix(y_test,rf_res)"
   ]
  },
  {
   "cell_type": "markdown",
   "metadata": {
    "collapsed": true
   },
   "source": [
    "Traditional Neural Network"
   ]
  },
  {
   "cell_type": "code",
   "execution_count": 275,
   "metadata": {
    "collapsed": true
   },
   "outputs": [],
   "source": [
    "mlp = MLPClassifier(hidden_layer_sizes=(200,200,200), max_iter=100, alpha=0.0001, verbose=10,  random_state=21,tol=0.0000001) #128 128 128 -> 28"
   ]
  },
  {
   "cell_type": "code",
   "execution_count": 276,
   "metadata": {
    "collapsed": false
   },
   "outputs": [
    {
     "name": "stderr",
     "output_type": "stream",
     "text": [
      "C:\\Users\\Peilin\\Anaconda3\\lib\\site-packages\\sklearn\\neural_network\\multilayer_perceptron.py:912: DataConversionWarning: A column-vector y was passed when a 1d array was expected. Please change the shape of y to (n_samples, ), for example using ravel().\n",
      "  y = column_or_1d(y, warn=True)\n"
     ]
    },
    {
     "name": "stdout",
     "output_type": "stream",
     "text": [
      "Iteration 1, loss = 0.72412744\n",
      "Iteration 2, loss = 0.63428975\n",
      "Iteration 3, loss = 0.65512557\n",
      "Iteration 4, loss = 0.62595938\n",
      "Iteration 5, loss = 0.60043623\n",
      "Iteration 6, loss = 0.63699532\n",
      "Iteration 7, loss = 0.61613796\n",
      "Iteration 8, loss = 0.52392835\n",
      "Iteration 9, loss = 0.21986513\n",
      "Iteration 10, loss = 0.12775353\n",
      "Iteration 11, loss = 0.10947580\n",
      "Iteration 12, loss = 0.09303446\n",
      "Iteration 13, loss = 0.08205027\n",
      "Iteration 14, loss = 0.08121412\n",
      "Iteration 15, loss = 0.07822185\n",
      "Iteration 16, loss = 0.08473085\n",
      "Iteration 17, loss = 0.08020021\n",
      "Iteration 18, loss = 0.07489247\n",
      "Iteration 19, loss = 0.07755664\n",
      "Iteration 20, loss = 0.07597606\n",
      "Iteration 21, loss = 0.07680397\n",
      "Training loss did not improve more than tol=0.000100 for two consecutive epochs. Stopping.\n"
     ]
    },
    {
     "data": {
      "text/plain": [
       "MLPClassifier(activation='relu', alpha=0.0001, batch_size='auto', beta_1=0.9,\n",
       "       beta_2=0.999, early_stopping=False, epsilon=1e-08,\n",
       "       hidden_layer_sizes=(200, 200, 200), learning_rate='constant',\n",
       "       learning_rate_init=0.001, max_iter=100, momentum=0.9,\n",
       "       nesterovs_momentum=True, power_t=0.5, random_state=21, shuffle=True,\n",
       "       solver='adam', tol=0.0001, validation_fraction=0.1, verbose=10,\n",
       "       warm_start=False)"
      ]
     },
     "execution_count": 276,
     "metadata": {},
     "output_type": "execute_result"
    }
   ],
   "source": [
    "mlp.fit(x_train,y_train)"
   ]
  },
  {
   "cell_type": "code",
   "execution_count": 277,
   "metadata": {
    "collapsed": false
   },
   "outputs": [],
   "source": [
    "mlp_res = mlp.predict(x_test)"
   ]
  },
  {
   "cell_type": "code",
   "execution_count": 278,
   "metadata": {
    "collapsed": false
   },
   "outputs": [
    {
     "data": {
      "text/plain": [
       "array([[54633,     1],\n",
       "       [ 1009,     1]], dtype=int64)"
      ]
     },
     "execution_count": 278,
     "metadata": {},
     "output_type": "execute_result"
    }
   ],
   "source": [
    "confusion_matrix(y_test,mlp_res)"
   ]
  },
  {
   "cell_type": "code",
   "execution_count": null,
   "metadata": {
    "collapsed": true
   },
   "outputs": [],
   "source": []
  },
  {
   "cell_type": "markdown",
   "metadata": {},
   "source": [
    "Isolation Forest"
   ]
  },
  {
   "cell_type": "code",
   "execution_count": 295,
   "metadata": {
    "collapsed": true
   },
   "outputs": [],
   "source": [
    "iso = IsolationForest(n_estimators=1000, max_samples=128)"
   ]
  },
  {
   "cell_type": "code",
   "execution_count": 296,
   "metadata": {
    "collapsed": false
   },
   "outputs": [
    {
     "data": {
      "text/plain": [
       "IsolationForest(bootstrap=False, contamination=0.1, max_features=1.0,\n",
       "        max_samples=128, n_estimators=1000, n_jobs=1, random_state=None,\n",
       "        verbose=0)"
      ]
     },
     "execution_count": 296,
     "metadata": {},
     "output_type": "execute_result"
    }
   ],
   "source": [
    "iso.fit(x_train,y_train)"
   ]
  },
  {
   "cell_type": "code",
   "execution_count": 297,
   "metadata": {
    "collapsed": true
   },
   "outputs": [],
   "source": [
    "iso_res = mlp.predict(x_test)"
   ]
  },
  {
   "cell_type": "code",
   "execution_count": 298,
   "metadata": {
    "collapsed": false
   },
   "outputs": [
    {
     "data": {
      "text/plain": [
       "array([[54633,     1],\n",
       "       [ 1009,     1]], dtype=int64)"
      ]
     },
     "execution_count": 298,
     "metadata": {},
     "output_type": "execute_result"
    }
   ],
   "source": [
    "confusion_matrix(y_test,iso_res)"
   ]
  },
  {
   "cell_type": "code",
   "execution_count": null,
   "metadata": {
    "collapsed": true
   },
   "outputs": [],
   "source": []
  },
  {
   "cell_type": "code",
   "execution_count": 126,
   "metadata": {
    "collapsed": false
   },
   "outputs": [],
   "source": [
    "from sklearn.metrics import roc_curve, auc\n",
    "import matplotlib.pyplot as plt\n",
    "from sklearn.metrics import precision_recall_curve"
   ]
  },
  {
   "cell_type": "code",
   "execution_count": null,
   "metadata": {
    "collapsed": false
   },
   "outputs": [],
   "source": [
    "def plot_roc_curve(fpr,tpr,label=None):\n",
    "  plt.plot(fpr,tpr,linewidth=2,label = label)\n",
    "  plt.plot([0,1],[0,1],'k--')\n",
    "  plt.axis([0,1,0,1])\n",
    "  plt.xlabel('False Positive Rate')\n",
    "  plt.ylabel('True Positive Rate')"
   ]
  },
  {
   "cell_type": "code",
   "execution_count": 134,
   "metadata": {
    "collapsed": true
   },
   "outputs": [],
   "source": [
    "def plot_prc_curve(fpr,tpr,label=None):\n",
    "  plt.plot(fpr,tpr,linewidth=2,label = label)\n",
    "  plt.axis([0,1,0,1])\n",
    "  plt.xlabel('Recall')\n",
    "  plt.ylabel('Precision')"
   ]
  },
  {
   "cell_type": "code",
   "execution_count": null,
   "metadata": {
    "collapsed": true
   },
   "outputs": [],
   "source": []
  },
  {
   "cell_type": "code",
   "execution_count": 279,
   "metadata": {
    "collapsed": false
   },
   "outputs": [
    {
     "ename": "ValueError",
     "evalue": "Error when checking : expected dense_4_input to have shape (None, 20) but got array with shape (55644, 11)",
     "output_type": "error",
     "traceback": [
      "\u001b[0;31m---------------------------------------------------------------------------\u001b[0m",
      "\u001b[0;31mValueError\u001b[0m                                Traceback (most recent call last)",
      "\u001b[0;32m<ipython-input-279-527876f2bb58>\u001b[0m in \u001b[0;36m<module>\u001b[0;34m()\u001b[0m\n\u001b[0;32m----> 1\u001b[0;31m \u001b[0mlstm_res_prob\u001b[0m \u001b[1;33m=\u001b[0m \u001b[0mmodel\u001b[0m\u001b[1;33m.\u001b[0m\u001b[0mpredict_proba\u001b[0m\u001b[1;33m(\u001b[0m\u001b[0mx_test\u001b[0m\u001b[1;33m)\u001b[0m\u001b[1;33m\u001b[0m\u001b[0m\n\u001b[0m",
      "\u001b[0;32mC:\\Users\\Peilin\\Anaconda3\\lib\\site-packages\\keras\\models.py\u001b[0m in \u001b[0;36mpredict_proba\u001b[0;34m(self, x, batch_size, verbose)\u001b[0m\n\u001b[1;32m    994\u001b[0m             \u001b[0mA\u001b[0m \u001b[0mNumpy\u001b[0m \u001b[0marray\u001b[0m \u001b[0mof\u001b[0m \u001b[0mprobability\u001b[0m \u001b[0mpredictions\u001b[0m\u001b[1;33m.\u001b[0m\u001b[1;33m\u001b[0m\u001b[0m\n\u001b[1;32m    995\u001b[0m         \"\"\"\n\u001b[0;32m--> 996\u001b[0;31m         \u001b[0mpreds\u001b[0m \u001b[1;33m=\u001b[0m \u001b[0mself\u001b[0m\u001b[1;33m.\u001b[0m\u001b[0mpredict\u001b[0m\u001b[1;33m(\u001b[0m\u001b[0mx\u001b[0m\u001b[1;33m,\u001b[0m \u001b[0mbatch_size\u001b[0m\u001b[1;33m,\u001b[0m \u001b[0mverbose\u001b[0m\u001b[1;33m)\u001b[0m\u001b[1;33m\u001b[0m\u001b[0m\n\u001b[0m\u001b[1;32m    997\u001b[0m         \u001b[1;32mif\u001b[0m \u001b[0mpreds\u001b[0m\u001b[1;33m.\u001b[0m\u001b[0mmin\u001b[0m\u001b[1;33m(\u001b[0m\u001b[1;33m)\u001b[0m \u001b[1;33m<\u001b[0m \u001b[1;36m0.\u001b[0m \u001b[1;32mor\u001b[0m \u001b[0mpreds\u001b[0m\u001b[1;33m.\u001b[0m\u001b[0mmax\u001b[0m\u001b[1;33m(\u001b[0m\u001b[1;33m)\u001b[0m \u001b[1;33m>\u001b[0m \u001b[1;36m1.\u001b[0m\u001b[1;33m:\u001b[0m\u001b[1;33m\u001b[0m\u001b[0m\n\u001b[1;32m    998\u001b[0m             warnings.warn('Network returning invalid probability values. '\n",
      "\u001b[0;32mC:\\Users\\Peilin\\Anaconda3\\lib\\site-packages\\keras\\models.py\u001b[0m in \u001b[0;36mpredict\u001b[0;34m(self, x, batch_size, verbose)\u001b[0m\n\u001b[1;32m    911\u001b[0m         \u001b[1;32mif\u001b[0m \u001b[1;32mnot\u001b[0m \u001b[0mself\u001b[0m\u001b[1;33m.\u001b[0m\u001b[0mbuilt\u001b[0m\u001b[1;33m:\u001b[0m\u001b[1;33m\u001b[0m\u001b[0m\n\u001b[1;32m    912\u001b[0m             \u001b[0mself\u001b[0m\u001b[1;33m.\u001b[0m\u001b[0mbuild\u001b[0m\u001b[1;33m(\u001b[0m\u001b[1;33m)\u001b[0m\u001b[1;33m\u001b[0m\u001b[0m\n\u001b[0;32m--> 913\u001b[0;31m         \u001b[1;32mreturn\u001b[0m \u001b[0mself\u001b[0m\u001b[1;33m.\u001b[0m\u001b[0mmodel\u001b[0m\u001b[1;33m.\u001b[0m\u001b[0mpredict\u001b[0m\u001b[1;33m(\u001b[0m\u001b[0mx\u001b[0m\u001b[1;33m,\u001b[0m \u001b[0mbatch_size\u001b[0m\u001b[1;33m=\u001b[0m\u001b[0mbatch_size\u001b[0m\u001b[1;33m,\u001b[0m \u001b[0mverbose\u001b[0m\u001b[1;33m=\u001b[0m\u001b[0mverbose\u001b[0m\u001b[1;33m)\u001b[0m\u001b[1;33m\u001b[0m\u001b[0m\n\u001b[0m\u001b[1;32m    914\u001b[0m \u001b[1;33m\u001b[0m\u001b[0m\n\u001b[1;32m    915\u001b[0m     \u001b[1;32mdef\u001b[0m \u001b[0mpredict_on_batch\u001b[0m\u001b[1;33m(\u001b[0m\u001b[0mself\u001b[0m\u001b[1;33m,\u001b[0m \u001b[0mx\u001b[0m\u001b[1;33m)\u001b[0m\u001b[1;33m:\u001b[0m\u001b[1;33m\u001b[0m\u001b[0m\n",
      "\u001b[0;32mC:\\Users\\Peilin\\Anaconda3\\lib\\site-packages\\keras\\engine\\training.py\u001b[0m in \u001b[0;36mpredict\u001b[0;34m(self, x, batch_size, verbose, steps)\u001b[0m\n\u001b[1;32m   1693\u001b[0m         x = _standardize_input_data(x, self._feed_input_names,\n\u001b[1;32m   1694\u001b[0m                                     \u001b[0mself\u001b[0m\u001b[1;33m.\u001b[0m\u001b[0m_feed_input_shapes\u001b[0m\u001b[1;33m,\u001b[0m\u001b[1;33m\u001b[0m\u001b[0m\n\u001b[0;32m-> 1695\u001b[0;31m                                     check_batch_axis=False)\n\u001b[0m\u001b[1;32m   1696\u001b[0m         \u001b[1;32mif\u001b[0m \u001b[0mself\u001b[0m\u001b[1;33m.\u001b[0m\u001b[0mstateful\u001b[0m\u001b[1;33m:\u001b[0m\u001b[1;33m\u001b[0m\u001b[0m\n\u001b[1;32m   1697\u001b[0m             \u001b[1;32mif\u001b[0m \u001b[0mx\u001b[0m\u001b[1;33m[\u001b[0m\u001b[1;36m0\u001b[0m\u001b[1;33m]\u001b[0m\u001b[1;33m.\u001b[0m\u001b[0mshape\u001b[0m\u001b[1;33m[\u001b[0m\u001b[1;36m0\u001b[0m\u001b[1;33m]\u001b[0m \u001b[1;33m>\u001b[0m \u001b[0mbatch_size\u001b[0m \u001b[1;32mand\u001b[0m \u001b[0mx\u001b[0m\u001b[1;33m[\u001b[0m\u001b[1;36m0\u001b[0m\u001b[1;33m]\u001b[0m\u001b[1;33m.\u001b[0m\u001b[0mshape\u001b[0m\u001b[1;33m[\u001b[0m\u001b[1;36m0\u001b[0m\u001b[1;33m]\u001b[0m \u001b[1;33m%\u001b[0m \u001b[0mbatch_size\u001b[0m \u001b[1;33m!=\u001b[0m \u001b[1;36m0\u001b[0m\u001b[1;33m:\u001b[0m\u001b[1;33m\u001b[0m\u001b[0m\n",
      "\u001b[0;32mC:\\Users\\Peilin\\Anaconda3\\lib\\site-packages\\keras\\engine\\training.py\u001b[0m in \u001b[0;36m_standardize_input_data\u001b[0;34m(data, names, shapes, check_batch_axis, exception_prefix)\u001b[0m\n\u001b[1;32m    142\u001b[0m                             \u001b[1;34m' to have shape '\u001b[0m \u001b[1;33m+\u001b[0m \u001b[0mstr\u001b[0m\u001b[1;33m(\u001b[0m\u001b[0mshapes\u001b[0m\u001b[1;33m[\u001b[0m\u001b[0mi\u001b[0m\u001b[1;33m]\u001b[0m\u001b[1;33m)\u001b[0m \u001b[1;33m+\u001b[0m\u001b[1;33m\u001b[0m\u001b[0m\n\u001b[1;32m    143\u001b[0m                             \u001b[1;34m' but got array with shape '\u001b[0m \u001b[1;33m+\u001b[0m\u001b[1;33m\u001b[0m\u001b[0m\n\u001b[0;32m--> 144\u001b[0;31m                             str(array.shape))\n\u001b[0m\u001b[1;32m    145\u001b[0m     \u001b[1;32mreturn\u001b[0m \u001b[0marrays\u001b[0m\u001b[1;33m\u001b[0m\u001b[0m\n\u001b[1;32m    146\u001b[0m \u001b[1;33m\u001b[0m\u001b[0m\n",
      "\u001b[0;31mValueError\u001b[0m: Error when checking : expected dense_4_input to have shape (None, 20) but got array with shape (55644, 11)"
     ]
    }
   ],
   "source": [
    "lstm_res_prob = model.predict_proba(x_test)"
   ]
  },
  {
   "cell_type": "code",
   "execution_count": 280,
   "metadata": {
    "collapsed": false
   },
   "outputs": [
    {
     "data": {
      "text/plain": [
       "array([[ 0.],\n",
       "       [ 0.],\n",
       "       [ 0.],\n",
       "       ..., \n",
       "       [ 0.],\n",
       "       [ 0.],\n",
       "       [ 0.]], dtype=float32)"
      ]
     },
     "execution_count": 280,
     "metadata": {},
     "output_type": "execute_result"
    }
   ],
   "source": [
    "lstm_res_prob"
   ]
  },
  {
   "cell_type": "code",
   "execution_count": 281,
   "metadata": {
    "collapsed": false
   },
   "outputs": [],
   "source": [
    "fpr_lstm,tpr_lstm,thresholds_lstm = roc_curve(y_test,lstm_res_prob)"
   ]
  },
  {
   "cell_type": "code",
   "execution_count": 282,
   "metadata": {
    "collapsed": false
   },
   "outputs": [
    {
     "data": {
      "image/png": "[encoded data removed]",
      "text/plain": [
       "<matplotlib.figure.Figure at 0x1f71ead2b00>"
      ]
     },
     "metadata": {},
     "output_type": "display_data"
    }
   ],
   "source": [
    "plot_roc_curve(fpr_lstm,tpr_lstm)\n",
    "plt.show()"
   ]
  },
  {
   "cell_type": "code",
   "execution_count": null,
   "metadata": {
    "collapsed": true
   },
   "outputs": [],
   "source": []
  },
  {
   "cell_type": "code",
   "execution_count": 283,
   "metadata": {
    "collapsed": true
   },
   "outputs": [],
   "source": [
    "mlp_res_prob = mlp.predict_proba(x_test)"
   ]
  },
  {
   "cell_type": "code",
   "execution_count": 284,
   "metadata": {
    "collapsed": true
   },
   "outputs": [],
   "source": [
    "mlp_res_prob = pd.DataFrame(mlp_res_prob)[1]"
   ]
  },
  {
   "cell_type": "code",
   "execution_count": 285,
   "metadata": {
    "collapsed": false
   },
   "outputs": [],
   "source": [
    "fpr,tpr,thresholds = roc_curve(y_test,mlp_res_prob)"
   ]
  },
  {
   "cell_type": "code",
   "execution_count": 286,
   "metadata": {
    "collapsed": false
   },
   "outputs": [
    {
     "data": {
      "image/png": "[encoded data removed]",
      "text/plain": [
       "<matplotlib.figure.Figure at 0x1f71eb5fda0>"
      ]
     },
     "metadata": {},
     "output_type": "display_data"
    }
   ],
   "source": [
    "plot_roc_curve(fpr,tpr)\n",
    "plt.show()"
   ]
  },
  {
   "cell_type": "code",
   "execution_count": 255,
   "metadata": {
    "collapsed": false
   },
   "outputs": [],
   "source": [
    "precision_mlp, recall_mlp, thresholds_mlp = precision_recall_curve(y_test,mlp_res_prob)"
   ]
  },
  {
   "cell_type": "code",
   "execution_count": 293,
   "metadata": {
    "collapsed": false
   },
   "outputs": [
    {
     "data": {
      "image/png": "[encoded data removed]",
      "text/plain": [
       "<matplotlib.figure.Figure at 0x1f71e6299e8>"
      ]
     },
     "metadata": {},
     "output_type": "display_data"
    }
   ],
   "source": [
    "plot_prc_curve(precision_mlp,recall_mlp)\n",
    "plt.show()"
   ]
  },
  {
   "cell_type": "code",
   "execution_count": null,
   "metadata": {
    "collapsed": true
   },
   "outputs": [],
   "source": []
  },
  {
   "cell_type": "code",
   "execution_count": 287,
   "metadata": {
    "collapsed": true
   },
   "outputs": [],
   "source": [
    "mlp_tr_prob = mlp.predict_proba(x_train)\n",
    "mlp_tr_prob = pd.DataFrame(mlp_tr_prob)[1]"
   ]
  },
  {
   "cell_type": "code",
   "execution_count": 288,
   "metadata": {
    "collapsed": false
   },
   "outputs": [],
   "source": [
    "fpr_mlp_tr,tpr_mlp_tr,thresholds_tr = roc_curve(y_train,mlp_tr_prob)"
   ]
  },
  {
   "cell_type": "code",
   "execution_count": 292,
   "metadata": {
    "collapsed": false
   },
   "outputs": [
    {
     "data": {
      "image/png": "[encoded data removed]",
      "text/plain": [
       "<matplotlib.figure.Figure at 0x1f718d45e80>"
      ]
     },
     "metadata": {},
     "output_type": "display_data"
    }
   ],
   "source": [
    "plot_roc_curve(fpr_mlp_tr,tpr_mlp_tr)\n",
    "plt.show()"
   ]
  },
  {
   "cell_type": "code",
   "execution_count": 291,
   "metadata": {
    "collapsed": false
   },
   "outputs": [
    {
     "data": {
      "image/png": "[encoded data removed]",
      "text/plain": [
       "<matplotlib.figure.Figure at 0x1f714fe44a8>"
      ]
     },
     "metadata": {},
     "output_type": "display_data"
    }
   ],
   "source": [
    "precision_mlp_tr, recall_mlp_tr, thresholds_mlp_tr = precision_recall_curve(y_train,mlp_tr_prob)\n",
    "plot_prc_curve(precision_mlp_tr,recall_mlp_tr)\n",
    "plt.show()"
   ]
  },
  {
   "cell_type": "code",
   "execution_count": null,
   "metadata": {
    "collapsed": true
   },
   "outputs": [],
   "source": []
  },
  {
   "cell_type": "code",
   "execution_count": null,
   "metadata": {
    "collapsed": true
   },
   "outputs": [],
   "source": []
  },
  {
   "cell_type": "code",
   "execution_count": null,
   "metadata": {
    "collapsed": true
   },
   "outputs": [],
   "source": []
  }
 ],
 "metadata": {
  "anaconda-cloud": {},
  "kernelspec": {
   "display_name": "Python [default]",
   "language": "python",
   "name": "python3"
  },
  "language_info": {
   "codemirror_mode": {
    "name": "ipython",
    "version": 3
   },
   "file_extension": ".py",
   "mimetype": "text/x-python",
   "name": "python",
   "nbconvert_exporter": "python",
   "pygments_lexer": "ipython3",
   "version": "3.5.2"
  }
 },
 "nbformat": 4,
 "nbformat_minor": 1
}
